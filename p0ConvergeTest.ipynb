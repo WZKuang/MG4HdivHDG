{
 "cells": [
  {
   "cell_type": "code",
   "execution_count": 425,
   "metadata": {},
   "outputs": [],
   "source": [
    "from ngsolve import *\n",
    "from ngsolve.meshes import MakeStructured2DMesh\n",
    "from netgen.geom2d import SplineGeometry, unit_square\n",
    "from ngsolve.webgui import Draw\n",
    "import time as timeit\n",
    "from netgen.csg import *"
   ]
  },
  {
   "cell_type": "markdown",
   "metadata": {},
   "source": [
    "*geometry and mesh*"
   ]
  },
  {
   "cell_type": "code",
   "execution_count": 426,
   "metadata": {},
   "outputs": [],
   "source": [
    "n = 5\n",
    "maxdofs = 3e5\n",
    "c_low = 0\n",
    "reduced = True; epsilon = 1e-8\n",
    "mesh = MakeStructured2DMesh(quads=False, nx=n, ny=n)\n",
    "#Draw(mesh)"
   ]
  },
  {
   "cell_type": "markdown",
   "metadata": {},
   "source": [
    "**2D Stokes for Testing**\n",
    "\n",
    "RT0 + Nedelec1_0 for velocity and velocity trace"
   ]
  },
  {
   "cell_type": "code",
   "execution_count": 427,
   "metadata": {},
   "outputs": [],
   "source": [
    "# finite element spaces\n",
    "V = MatrixValued(L2(mesh, order=0), mesh.dim, False)\n",
    "W = HDiv(mesh, order=0, RT=True, dirichlet=\".*\")\n",
    "M = HCurl(mesh, order=0, type1=True, dirichlet=\".*\")\n",
    "Q = L2(mesh, order=0, lowest_order_wb=not reduced)\n",
    "fes = V * W * M * Q\n",
    "(L, u, uhat, p), (G, v, vhat, q) = fes.TnT()\n",
    "gfu = GridFunction(fes)\n",
    "Lh, uh, uhath, ph = gfu.components\n",
    "\n",
    "n = specialcf.normal(mesh.dim)\n",
    "h = specialcf.mesh_size"
   ]
  },
  {
   "cell_type": "code",
   "execution_count": 428,
   "metadata": {},
   "outputs": [],
   "source": [
    "# bilinear and linear forms\n",
    "def tang(v):\n",
    "        return v - (v*n)*n"
   ]
  },
  {
   "cell_type": "code",
   "execution_count": 429,
   "metadata": {},
   "outputs": [],
   "source": [
    "# exact solution\n",
    "u_exact1 = x ** 2 * (x - 1) ** 2 * 2 * y * (1 - y) * (2 * y - 1)\n",
    "u_exact2 = y ** 2 * (y - 1) ** 2 * 2 * x * (x - 1) * (2 * x - 1)\n",
    "u_exact = CF((u_exact1, u_exact2))\n",
    "\n",
    "L_exactXX = (2 * x * (x - 1) ** 2 * 2 * y * (1 - y) * (2 * y - 1)\n",
    "                        + x ** 2 * 2 * (x - 1) * 2 * y * (1 - y) * (2 * y - 1))\n",
    "L_exactXY = (x ** 2 * (x - 1) ** 2 * 2 * (1 - y) * (2 * y - 1)\n",
    "                        - x ** 2 * (x - 1) ** 2 * 2 * y * (2 * y - 1)\n",
    "                        + 2 * x ** 2 * (x - 1) ** 2 * 2 * y * (1 - y))\n",
    "L_exactYX = (y ** 2 * (y - 1) ** 2 * 2 * (x - 1) * (2 * x - 1)\n",
    "                        + y ** 2 * (y - 1) ** 2 * 2 * x * (2 * x - 1)\n",
    "                        + 2 * y ** 2 * (y - 1) ** 2 * 2 * x * (x - 1))\n",
    "L_exactYY = (2 * y * (y - 1) ** 2 * 2 * x * (x - 1) * (2 * x - 1)\n",
    "                        + y ** 2 * 2 * (y - 1) * 2 * x * (x - 1) * (2 * x - 1))\n",
    "L_exact = CF((L_exactXX, L_exactXY, L_exactYX, L_exactYY), dims=(2, 2))\n",
    "\n",
    "p_exact = x * (1 - x) * (1 - y) - 1 / 12"
   ]
  },
  {
   "cell_type": "markdown",
   "metadata": {},
   "source": [
    "Plain solver"
   ]
  },
  {
   "cell_type": "code",
   "execution_count": 430,
   "metadata": {},
   "outputs": [],
   "source": [
    "a = BilinearForm(fes, symmetric=False, condense=True)\n",
    "if reduced:\n",
    "        a += epsilon * p * q * dx\n",
    "a += (InnerProduct(L, G) + c_low*u*v - p*div(v) - div(u)*q) * dx\n",
    "a += (-G*n * ((u*n)*n + tang(uhat)) + L*n * ((v*n)*n + tang(vhat))) * dx(element_boundary=True)\n",
    "\n",
    "f = LinearForm(fes)\n",
    "f += (-(4 * y * (1 - y) * (2 * y - 1) * ((1 - 2 * x) ** 2 - 2 * x * (1 - x))\n",
    "                + 12 * x ** 2 * (1 - x) ** 2 * (1 - 2 * y))\n",
    "        + (1 - 2 * x) * (1 - y)) * v[0] * dx\n",
    "f += (-(4 * x * (1 - x) * (1 - 2 * x) * ((1 - 2 * y) ** 2 - 2 * y * (1 - y))\n",
    "                + 12 * y ** 2 * (1 - y) ** 2 * (2 * x - 1))\n",
    "        - x * (1 - x)) * v[1] * dx\n",
    "f += c_low * u_exact * v * dx\n",
    "\n",
    "def SolveBVP_plain(level, drawResult=False):\n",
    "    t0 = timeit.time()\n",
    "    fes.Update()\n",
    "    gfu.Update()\n",
    "    a.Assemble()\n",
    "    f.Assemble()\n",
    "\n",
    "    t1 = timeit.time()\n",
    "\n",
    "    # dirichlet BC\n",
    "    # homogeneous Dirichlet assumed\n",
    "    f.vec.data += a.harmonic_extension_trans * f.vec\n",
    "    inv = a.mat.Inverse(fes.FreeDofs(True), inverse='umfpack')\n",
    "    gfu.vec.data += inv * f.vec\n",
    "    gfu.vec.data += a.harmonic_extension * gfu.vec\n",
    "    gfu.vec.data += a.inner_solve * f.vec\n",
    "\n",
    "    \n",
    "    t2 = timeit.time()\n",
    "\n",
    "    print(\"Assemble: %.2e, Solve: %.2e\" % (t1 - t0, t2 - t1))\n",
    "    if drawResult:\n",
    "        Draw(uh, mesh)"
   ]
  },
  {
   "cell_type": "markdown",
   "metadata": {},
   "source": [
    "Now projection into CR space and solve"
   ]
  },
  {
   "cell_type": "code",
   "execution_count": 431,
   "metadata": {},
   "outputs": [],
   "source": [
    "from ngsolve.krylovspace import CGSolver, MinResSolver, GMResSolver\n",
    "\n",
    "V_cr = FESpace('nonconforming', mesh, dirichlet='.*')\n",
    "Q_cr = L2(mesh, order=0, lowest_order_wb=not reduced)\n",
    "fes_cr = V_cr * V_cr * Q_cr\n",
    "(ux_cr, uy_cr, p_cr), (vx_cr, vy_cr, q_cr) = fes_cr.TnT()\n",
    "\n",
    "u_cr = CF((ux_cr, uy_cr))\n",
    "v_cr = CF((vx_cr, vy_cr))\n",
    "GradU_cr = CF((grad(ux_cr), grad(uy_cr)))\n",
    "GradV_cr = CF((grad(vx_cr), grad(vy_cr)))\n",
    "divU_cr = grad(ux_cr)[0] + grad(uy_cr)[1]\n",
    "divV_cr = grad(vx_cr)[0] + grad(vy_cr)[1]\n",
    "\n",
    "a_cr = BilinearForm(fes_cr, condense=reduced)\n",
    "if reduced:\n",
    "    a_cr += epsilon * p_cr * q_cr * dx\n",
    "# TODO: Mass matrix projection on RT!!!!\n",
    "a_cr += (InnerProduct(GradU_cr, GradV_cr) + c_low * u_cr * v_cr \\\n",
    "         - p_cr * divV_cr - divU_cr * q_cr) * dx\n",
    "\n",
    "f_cr = LinearForm(fes_cr)\n",
    "f_cr += (-(4 * y * (1 - y) * (2 * y - 1) * ((1 - 2 * x) ** 2 - 2 * x * (1 - x))\n",
    "                + 12 * x ** 2 * (1 - x) ** 2 * (1 - 2 * y))\n",
    "        + (1 - 2 * x) * (1 - y)) * v_cr[0] * dx\n",
    "f_cr += (-(4 * x * (1 - x) * (1 - 2 * x) * ((1 - 2 * y) ** 2 - 2 * y * (1 - y))\n",
    "                + 12 * y ** 2 * (1 - y) ** 2 * (2 * x - 1))\n",
    "        - x * (1 - x)) * v_cr[1] * dx\n",
    "f_cr += c_low * u_exact * v_cr * dx\n",
    "\n",
    "gfu_cr = GridFunction(fes_cr)\n",
    "uhx_cr, uhy_cr, ph_cr = gfu_cr.components\n",
    "uh_cr = CF((uhx_cr, uhy_cr))\n",
    "\n",
    "# embedding from fes_cr to fes by L2 projection\n",
    "mixmass = BilinearForm(trialspace=fes_cr, testspace=fes)\n",
    "mixmass += (u_cr*n) * (v*n) * dx(element_boundary=True)\n",
    "mixmass += tang(u_cr) * tang(vhat) * dx(element_boundary=True)\n",
    "\n",
    "fesMass = BilinearForm(fes)\n",
    "fesMass += (u*n) * (v*n) * dx(element_boundary=True)\n",
    "fesMass += tang(uhat) * tang(vhat) * dx(element_boundary=True)\n",
    "\n",
    "if not reduced:\n",
    "    mixmass += p_cr * q * dx\n",
    "    fesMass += p * q * dx\n",
    "\n",
    "def SolveBVP_CR(level, drawResult=False):\n",
    "    t0 = timeit.time()\n",
    "    fes.Update(); fes_cr.Update()\n",
    "    gfu.Update(); gfu_cr.Update()\n",
    "    a.Assemble(); a_cr.Assemble()\n",
    "    f.Assemble(); f_cr.Assemble()\n",
    "    mixmass.Assemble(); fesMass.Assemble()\n",
    "\n",
    "    udofs = BitArray(fes.ndof)\n",
    "    udofs[:] = 0\n",
    "    cur_ndof = V.ndof\n",
    "    udofs[cur_ndof: cur_ndof+W.ndof] = W.FreeDofs(True)\n",
    "    cur_ndof += W.ndof\n",
    "    udofs[cur_ndof: cur_ndof+M.ndof] = M.FreeDofs(True)\n",
    "    if not reduced:\n",
    "        cur_ndof += M.ndof\n",
    "        udofs[cur_ndof: cur_ndof+Q.ndof] = Q.FreeDofs(True)\n",
    "    # global dofs mass mat => fesMass is diagonal\n",
    "    fesM_inv = fesMass.mat.CreateSmoother(udofs)\n",
    "    E = fesM_inv @ mixmass.mat # E: fes_cr => fes\n",
    "    ET = mixmass.mat.T @ fesM_inv\n",
    "    # direct solver for now.\n",
    "    # TODO: MG solver for cr !!!!\n",
    "    if reduced:\n",
    "        inv_cr = a_cr.mat.Inverse(fes_cr.FreeDofs(True), inverse='umfpack')\n",
    "    else:\n",
    "        inv_cr = a_cr.mat.Inverse(fes_cr.FreeDofs(), inverse='umfpack')\n",
    "    pre = E @ inv_cr @ ET\n",
    "    t1 = timeit.time()\n",
    "\n",
    "    # dirichlet BC\n",
    "    # homogeneous Dirichlet assumed\n",
    "    f.vec.data += a.harmonic_extension_trans * f.vec\n",
    "    # gfu.vec.data += E @ inv_cr @ ET * f.vec\n",
    "    if reduced: # SPD operator\n",
    "        inv_fes = CGSolver(a.mat, pre, printrates=True, tol=1e-8, maxiter=30)\n",
    "    else: # symmetric saddle point operator\n",
    "        # TODO: FIX ME!!! MINRES SOLVER???\n",
    "        inv_fes = GMResSolver(a.mat, pre, printrates=True, tol=1e-8, maxiter=30)\n",
    "    gfu.vec.data += inv_fes * f.vec\n",
    "    gfu.vec.data += a.harmonic_extension * gfu.vec\n",
    "    gfu.vec.data += a.inner_solve * f.vec\n",
    "        \n",
    "    \n",
    "    # gfu_cr.vec.data += a_cr.mat.Inverse(fes_cr.FreeDofs(True), inverse='umfpack') * f_cr.vec\n",
    "    t2 = timeit.time()\n",
    "\n",
    "    print(\"Assemble: %.2e, Solve: %.2e\" % (t1 - t0, t2 - t1))\n",
    "    if drawResult:\n",
    "        Draw(uh, mesh)\n",
    "        # Draw(uh_cr, mesh)"
   ]
  },
  {
   "cell_type": "markdown",
   "metadata": {},
   "source": [
    "Projection into HDG-P0(?)"
   ]
  },
  {
   "cell_type": "code",
   "execution_count": 432,
   "metadata": {},
   "outputs": [],
   "source": [
    "from ngsolve.la import EigenValues_Preconditioner\n",
    "from prol import *\n",
    "from mymg import *\n",
    "\n",
    "W0 = VectorL2(mesh, order=1)\n",
    "M0 = FacetFESpace(mesh, dirichlet=\".*\")\n",
    "fes0 = M0 * M0 * Q * V * W0\n",
    "(uhatx0, uhaty0, p0, L0, u0), (vhatx0, vhaty0, q0, G0, v0) = fes0.TnT()\n",
    "uhat0 = CF((uhatx0, uhaty0))\n",
    "vhat0 = CF((vhatx0, vhaty0))\n",
    "\n",
    "gfu0 = GridFunction(fes0)\n",
    "uhathx0, uhathy0, ph0, Lh0, uh0 = gfu0.components\n",
    "uhath0 = CF((uhathx0, uhathy0))\n",
    "\n",
    "et = meshTopology(mesh, mesh.dim)\n",
    "et.Update()\n",
    "prolM0 = FacetProlongationTrig(mesh, et)  # Facet prol\n",
    "prolP0 = ElementProlongation0(mesh, et)  # constant pressure prol\n",
    "\n",
    "alpha = 1\n",
    "a0 = BilinearForm(fes0, symmetric=False, condense=True)\n",
    "if reduced:\n",
    "    a0 += epsilon * p0 * q0 * dx\n",
    "a0 += (InnerProduct(L0, G0)) * dx\n",
    "a0 += (-uhat0 * (G0 * n) + (L0 * n) * vhat0\n",
    "          - uhat0 * n * q0 - p0 * vhat0 * n\n",
    "          + alpha / h * (u0 - uhat0) * (v0 - vhat0)) * dx(element_boundary=True)\n",
    "f0 = LinearForm(fes0)\n",
    "f0 += (-(4 * y * (1 - y) * (2 * y - 1) * ((1 - 2 * x) ** 2 - 2 * x * (1 - x))\n",
    "                + 12 * x ** 2 * (1 - x) ** 2 * (1 - 2 * y))\n",
    "        + (1 - 2 * x) * (1 - y)) * v0[0] * dx\n",
    "f0 += (-(4 * x * (1 - x) * (1 - 2 * x) * ((1 - 2 * y) ** 2 - 2 * y * (1 - y))\n",
    "                + 12 * y ** 2 * (1 - y) ** 2 * (2 * x - 1))\n",
    "        - x * (1 - x)) * v0[1] * dx\n",
    "f0 += c_low * u_exact * v0 * dx\n",
    "\n",
    "a0.Assemble()\n",
    "pre0 = MultiGrid(a0.mat, prolM0, nc=M0.ndof,\n",
    "                    coarsedofs=fes0.FreeDofs(True), w1=0.8,\n",
    "                    nsmooth=4, sm=\"gs\", var=True,\n",
    "                    he=True, dim=2, wcycle=False)\n",
    "\n",
    "\n",
    "def SolveBVP_HDGP0(level, drawResult):\n",
    "    t0 = timeit.time()\n",
    "    fes.Update(); fes0.Update()\n",
    "    gfu.Update(); gfu0.Update()\n",
    "    a.Assemble(); a0.Assemble()\n",
    "    f.Assemble(); f0.Assemble()\n",
    "\n",
    "    t1 = timeit.time()\n",
    "\n",
    "    ## Update MG\n",
    "    if level > 0:\n",
    "        et.Update()\n",
    "        pp = [fes0.FreeDofs(True)]\n",
    "        pp.append(M0.ndof)\n",
    "        pdofs = BitArray(fes0.ndof)\n",
    "        pdofs[:] = 0\n",
    "        inner = prolM0.GetInnerDofs(level)\n",
    "        for j in range(mesh.dim):\n",
    "            pdofs[j * M0.ndof:(j + 1) * M0.ndof] = inner\n",
    "        # he_prol\n",
    "        pp.append(a0.mat.Inverse(pdofs, inverse=\"sparsecholesky\"))\n",
    "        # bk smoother\n",
    "        bjac = et.CreateSmoother(a0, {\"blocktype\": \"vertexpatch\"})\n",
    "        pp.append(bjac)\n",
    "        pre0.Update(a0.mat, pp)\n",
    "    t2 = timeit.time()\n",
    "    # estimate condition number\n",
    "    # lams = np.array([1, 1])\n",
    "    # inv = a0.mat.Inverse(fes0.FreeDofs(True), inverse='umfpack')\n",
    "    lams = EigenValues_Preconditioner(mat=a0.mat, pre=pre0)\n",
    "    inv = CGSolver(a0.mat, pre0, printrates=False, tol=1e-8, maxiter=100)\n",
    "    t21 = timeit.time()\n",
    "    # dirichlet BC\n",
    "    # homogeneous Dirichlet assumed\n",
    "    f0.vec.data += a0.harmonic_extension_trans * f0.vec\n",
    "    # dirichlet BC\n",
    "    # gfu0.vec.data += inv * f0.vec\n",
    "    # it = inv.iterations\n",
    "    gfu0.vec.data += a0.mat.Inverse(fes0.FreeDofs(True), inverse='umfpack') * f0.vec\n",
    "    it = 1\n",
    "    gfu0.vec.data += a0.harmonic_extension * gfu0.vec\n",
    "    gfu0.vec.data += a0.inner_solve * f0.vec\n",
    "    t3 = timeit.time()\n",
    "\n",
    "    print(f\"Time to find EIG Val: {t21 - t2:.1E}, MAX PREC LAM: {max(lams):.1E}; MIN PREC LAM: {min(lams):.1E}\")\n",
    "    print(\"IT: %2.0i\" % (it), \"cond: %.2e\" % (max(lams) / min(lams)),\n",
    "          \"Assemble: %.2e Prec: %.2e Solve: %.2e\" % (t1 - t0, t2 - t1, t3 - t21))\n",
    "    if drawResult:\n",
    "        Draw(uh0, mesh)\n",
    "        # Draw(uh_cr, mesh)"
   ]
  },
  {
   "cell_type": "markdown",
   "metadata": {},
   "source": [
    "Convergence rate test, 1st order convergence expected for Lh, uh and ph"
   ]
  },
  {
   "cell_type": "code",
   "execution_count": 433,
   "metadata": {},
   "outputs": [
    {
     "name": "stdout",
     "output_type": "stream",
     "text": [
      "===== Reduced: True =====\n",
      "Time to find EIG Val: 5.2E-04, MAX PREC LAM: 1.0E+00; MIN PREC LAM: 1.0E+00\n",
      "IT:  1 cond: 1.00e+00 Assemble: 1.09e-02 Prec: 4.77e-07 Solve: 1.03e-03\n"
     ]
    },
    {
     "data": {
      "application/vnd.jupyter.widget-view+json": {
       "model_id": "5245a05c69e04b658114b75f673b5d7c",
       "version_major": 2,
       "version_minor": 0
      },
      "text/plain": [
       "WebGuiWidget(value={'ngsolve_version': '6.2.2105-289-g53df468f0', 'mesh_dim': 2, 'order2d': 2, 'order3d': 2, '…"
      ]
     },
     "metadata": {},
     "output_type": "display_data"
    },
    {
     "name": "stdout",
     "output_type": "stream",
     "text": [
      "level: 0\n",
      "uh L2-error: 7.776E-03\n",
      "Lh L2-error: 5.714E-02\n",
      "uh divErr: 0.0E+00\n",
      "==============================\n",
      "level: 1\n",
      "Time to find EIG Val: 1.0E-02, MAX PREC LAM: 1.4E+00; MIN PREC LAM: 9.9E-01\n",
      "IT:  1 cond: 1.43e+00 Assemble: 1.46e-02 Prec: 2.86e-02 Solve: 1.99e-02\n"
     ]
    },
    {
     "data": {
      "application/vnd.jupyter.widget-view+json": {
       "model_id": "861c2b4049fc4549ac2396ee5c04d447",
       "version_major": 2,
       "version_minor": 0
      },
      "text/plain": [
       "WebGuiWidget(value={'ngsolve_version': '6.2.2105-289-g53df468f0', 'mesh_dim': 2, 'order2d': 2, 'order3d': 2, '…"
      ]
     },
     "metadata": {},
     "output_type": "display_data"
    },
    {
     "name": "stdout",
     "output_type": "stream",
     "text": [
      "uh L2-error: 7.776E-03, uh conv rate: 1.52E-07\n",
      "Lh L2-error: 5.714E-02, Lh conv rate: -7.39E-07\n",
      "uh divErr: 0.0E+00\n",
      "==============================\n",
      "level: 2\n",
      "Time to find EIG Val: 4.1E-02, MAX PREC LAM: 1.7E+00; MIN PREC LAM: 9.8E-01\n",
      "IT:  1 cond: 1.70e+00 Assemble: 3.91e-02 Prec: 1.60e-02 Solve: 2.78e-02\n"
     ]
    },
    {
     "data": {
      "application/vnd.jupyter.widget-view+json": {
       "model_id": "804deff0d79348819627bae55f48f554",
       "version_major": 2,
       "version_minor": 0
      },
      "text/plain": [
       "WebGuiWidget(value={'ngsolve_version': '6.2.2105-289-g53df468f0', 'mesh_dim': 2, 'order2d': 2, 'order3d': 2, '…"
      ]
     },
     "metadata": {},
     "output_type": "display_data"
    },
    {
     "name": "stdout",
     "output_type": "stream",
     "text": [
      "uh L2-error: 7.776E-03, uh conv rate: 1.21E-10\n",
      "Lh L2-error: 5.714E-02, Lh conv rate: -3.28E-09\n",
      "uh divErr: 0.0E+00\n",
      "==============================\n",
      "level: 3\n",
      "Time to find EIG Val: 8.0E-02, MAX PREC LAM: 1.8E+00; MIN PREC LAM: 9.8E-01\n",
      "IT:  1 cond: 1.83e+00 Assemble: 3.20e-01 Prec: 2.01e-02 Solve: 1.05e-01\n"
     ]
    },
    {
     "data": {
      "application/vnd.jupyter.widget-view+json": {
       "model_id": "e77af2a1bbfa4f5c80e1dc39139f52db",
       "version_major": 2,
       "version_minor": 0
      },
      "text/plain": [
       "WebGuiWidget(value={'ngsolve_version': '6.2.2105-289-g53df468f0', 'mesh_dim': 2, 'order2d': 2, 'order3d': 2, '…"
      ]
     },
     "metadata": {},
     "output_type": "display_data"
    },
    {
     "name": "stdout",
     "output_type": "stream",
     "text": [
      "uh L2-error: 7.776E-03, uh conv rate: -4.10E-14\n",
      "Lh L2-error: 5.714E-02, Lh conv rate: -1.32E-11\n",
      "uh divErr: 0.0E+00\n",
      "==============================\n",
      "level: 4\n",
      "Time to find EIG Val: 4.1E-01, MAX PREC LAM: 1.8E+00; MIN PREC LAM: 9.8E-01\n",
      "IT:  1 cond: 1.88e+00 Assemble: 9.47e-01 Prec: 1.77e-01 Solve: 9.98e-01\n"
     ]
    },
    {
     "data": {
      "application/vnd.jupyter.widget-view+json": {
       "model_id": "aee2dd5f5d4c4f5daa8e531deaadca37",
       "version_major": 2,
       "version_minor": 0
      },
      "text/plain": [
       "WebGuiWidget(value={'ngsolve_version': '6.2.2105-289-g53df468f0', 'mesh_dim': 2, 'order2d': 2, 'order3d': 2, '…"
      ]
     },
     "metadata": {},
     "output_type": "display_data"
    },
    {
     "name": "stdout",
     "output_type": "stream",
     "text": [
      "uh L2-error: 7.776E-03, uh conv rate: -2.56E-15\n",
      "Lh L2-error: 5.714E-02, Lh conv rate: -5.59E-14\n",
      "uh divErr: 0.0E+00\n",
      "==============================\n",
      "level: 5\n",
      "Time to find EIG Val: 4.1E+00, MAX PREC LAM: 1.9E+00; MIN PREC LAM: 9.8E-01\n",
      "IT:  1 cond: 1.90e+00 Assemble: 3.82e+00 Prec: 7.41e-01 Solve: 1.16e+01\n"
     ]
    },
    {
     "data": {
      "application/vnd.jupyter.widget-view+json": {
       "model_id": "d057df56edac45779fc4d42eb19297ef",
       "version_major": 2,
       "version_minor": 0
      },
      "text/plain": [
       "WebGuiWidget(value={'ngsolve_version': '6.2.2105-289-g53df468f0', 'mesh_dim': 2, 'order2d': 2, 'order3d': 2, '…"
      ]
     },
     "metadata": {},
     "output_type": "display_data"
    },
    {
     "name": "stdout",
     "output_type": "stream",
     "text": [
      "uh L2-error: 7.776E-03, uh conv rate: 5.13E-15\n",
      "Lh L2-error: 5.714E-02, Lh conv rate: 1.28E-14\n",
      "uh divErr: 0.0E+00\n",
      "==============================\n",
      "821690\n"
     ]
    }
   ],
   "source": [
    "drawResult = True\n",
    "SolveBVP = SolveBVP_HDGP0\n",
    "\n",
    "print(f'===== Reduced: {reduced} =====')\n",
    "SolveBVP(0, drawResult)\n",
    "print(f'level: {0}')\n",
    "L2_uErr = sqrt(Integrate((uh - u_exact) * (uh - u_exact), mesh))\n",
    "L2_LErr = sqrt(Integrate(InnerProduct((Lh - L_exact), (Lh - L_exact)), mesh))\n",
    "L2_divErr = sqrt(Integrate(div(uh) * div(uh), mesh))\n",
    "print(f\"uh L2-error: {L2_uErr:.3E}\")\n",
    "print(f\"Lh L2-error: {L2_LErr:.3E}\")\n",
    "print(f'uh divErr: {L2_divErr:.1E}')\n",
    "print('==============================')\n",
    "prev_uErr = L2_uErr\n",
    "prev_LErr = L2_LErr\n",
    "u_rate, L_rate = 0, 0\n",
    "level = 1\n",
    "while True:\n",
    "    with TaskManager():\n",
    "        mesh.ngmesh.Refine()\n",
    "        # exit if total global dofs exceed a tol\n",
    "        M.Update()\n",
    "        if (M.ndof * mesh.dim > maxdofs):\n",
    "            print(M.ndof * mesh.dim)\n",
    "            break\n",
    "        print(f'level: {level}')\n",
    "        SolveBVP(level, drawResult)\n",
    "        # ===== convergence check =====\n",
    "        meshRate = 2\n",
    "        L2_uErr = sqrt(Integrate((uh - u_exact) * (uh - u_exact), mesh))\n",
    "        L2_LErr = sqrt(Integrate(InnerProduct((Lh - L_exact), (Lh - L_exact)), mesh))\n",
    "        L2_divErr = sqrt(Integrate(div(uh) * div(uh), mesh))\n",
    "        u_rate = log(prev_uErr / L2_uErr) / log(meshRate)\n",
    "        L_rate = log(prev_LErr / L2_LErr) / log(meshRate)\n",
    "        print(f\"uh L2-error: {L2_uErr:.3E}, uh conv rate: {u_rate:.2E}\")\n",
    "        print(f\"Lh L2-error: {L2_LErr:.3E}, Lh conv rate: {L_rate:.2E}\")\n",
    "        print(f'uh divErr: {L2_divErr:.1E}')\n",
    "        print('==============================')\n",
    "        prev_uErr = L2_uErr\n",
    "        prev_LErr = L2_LErr\n",
    "        level += 1"
   ]
  }
 ],
 "metadata": {
  "kernelspec": {
   "display_name": "Python 3.6.9 64-bit",
   "language": "python",
   "name": "python3"
  },
  "language_info": {
   "codemirror_mode": {
    "name": "ipython",
    "version": 3
   },
   "file_extension": ".py",
   "mimetype": "text/x-python",
   "name": "python",
   "nbconvert_exporter": "python",
   "pygments_lexer": "ipython3",
   "version": "3.6.9"
  },
  "orig_nbformat": 4,
  "vscode": {
   "interpreter": {
    "hash": "31f2aee4e71d21fbe5cf8b01ff0e069b9275f58929596ceb00d14d90e3e16cd6"
   }
  }
 },
 "nbformat": 4,
 "nbformat_minor": 2
}
